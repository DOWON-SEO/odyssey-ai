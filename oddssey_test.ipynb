{
  "nbformat": 4,
  "nbformat_minor": 0,
  "metadata": {
    "colab": {
      "provenance": [],
      "mount_file_id": "1hi4e1FpuQ_B10uMvZS_6_0xqpl29wZ-f",
      "authorship_tag": "ABX9TyPIUyJEo9lJczsbdRLYDDzx"
    },
    "kernelspec": {
      "name": "python3",
      "display_name": "Python 3"
    },
    "language_info": {
      "name": "python"
    }
  },
  "cells": [
    {
      "cell_type": "markdown",
      "source": [
        "# 1. 라이브러리 호출"
      ],
      "metadata": {
        "id": "exxflUzKLCxY"
      }
    },
    {
      "cell_type": "code",
      "execution_count": 2,
      "metadata": {
        "id": "5a4v0ogqIrrz"
      },
      "outputs": [],
      "source": [
        "import torch\n",
        "import torch.nn as nn\n",
        "import torch.optim as optim\n"
      ]
    },
    {
      "cell_type": "markdown",
      "source": [
        "# 2. 모델 정의"
      ],
      "metadata": {
        "id": "4yIbhbRZLFiv"
      }
    },
    {
      "cell_type": "code",
      "source": [
        "class SimpleNet(nn.Module):\n",
        "    def __init__(self, input_dim, hidden_dim, output_dim):\n",
        "        super(SimpleNet, self).__init__()\n",
        "        self.fc1 = nn.Linear(input_dim, hidden_dim)\n",
        "        self.fc2 = nn.Linear(hidden_dim, output_dim)\n",
        "\n",
        "    def forward(self, x):\n",
        "        x = torch.relu(self.fc1(x))\n",
        "        x = self.fc2(x)\n",
        "        return x\n",
        "\n",
        "# 예제 모델 초기화\n",
        "input_dim = 3\n",
        "hidden_dim = 5\n",
        "output_dim = 2\n",
        "\n",
        "model = SimpleNet(input_dim, hidden_dim, output_dim)\n"
      ],
      "metadata": {
        "id": "3afDU2p0LAJb"
      },
      "execution_count": 3,
      "outputs": []
    },
    {
      "cell_type": "markdown",
      "source": [
        "# 3. 데이터 준비"
      ],
      "metadata": {
        "id": "Hc40NAipLIMx"
      }
    },
    {
      "cell_type": "code",
      "source": [
        "# 임의의 입력 데이터 생성\n",
        "x = torch.rand((10, input_dim))\n",
        "print(\"\\nInput Data:\")\n",
        "print(x)\n",
        "\n",
        "# 예측 실행\n",
        "y_pred = model(x)\n",
        "print(\"\\nInitial Predictions:\")\n",
        "print(y_pred)\n"
      ],
      "metadata": {
        "colab": {
          "base_uri": "https://localhost:8080/"
        },
        "id": "rTuN6Ll9LNc8",
        "outputId": "42fe7ef3-b07b-42d1-ece3-a19e2f3ea3f4"
      },
      "execution_count": 4,
      "outputs": [
        {
          "output_type": "stream",
          "name": "stdout",
          "text": [
            "\n",
            "Input Data:\n",
            "tensor([[0.5354, 0.9236, 0.5187],\n",
            "        [0.1560, 0.5763, 0.7143],\n",
            "        [0.8691, 0.8404, 0.8317],\n",
            "        [0.2344, 0.9837, 0.2160],\n",
            "        [0.6203, 0.8891, 0.0080],\n",
            "        [0.3176, 0.9639, 0.0176],\n",
            "        [0.6478, 0.4594, 0.9892],\n",
            "        [0.9604, 0.5049, 0.1305],\n",
            "        [0.2309, 0.6301, 0.9132],\n",
            "        [0.2822, 0.5757, 0.1026]])\n",
            "\n",
            "Initial Predictions:\n",
            "tensor([[0.1312, 0.2406],\n",
            "        [0.1444, 0.2459],\n",
            "        [0.1343, 0.2419],\n",
            "        [0.1291, 0.2398],\n",
            "        [0.1362, 0.2426],\n",
            "        [0.1316, 0.2408],\n",
            "        [0.1499, 0.2482],\n",
            "        [0.1542, 0.2499],\n",
            "        [0.1410, 0.2446],\n",
            "        [0.1486, 0.2477]], grad_fn=<AddmmBackward0>)\n"
          ]
        }
      ]
    },
    {
      "cell_type": "markdown",
      "source": [
        "# 4. 손실 함수 및 옵티마이저 정의"
      ],
      "metadata": {
        "id": "GFeOx6U_LPDU"
      }
    },
    {
      "cell_type": "code",
      "source": [
        "criterion = nn.MSELoss()\n",
        "optimizer = optim.SGD(model.parameters(), lr=0.01)\n"
      ],
      "metadata": {
        "id": "XRtaOJrILWFG"
      },
      "execution_count": 5,
      "outputs": []
    },
    {
      "cell_type": "markdown",
      "source": [
        "# 5. 학습\n",
        "\n",
        "**임의 데이터 사용**"
      ],
      "metadata": {
        "id": "kgbXxu7ULX61"
      }
    },
    {
      "cell_type": "code",
      "source": [
        "# 임의의 타겟 데이터 생성\n",
        "y_target = torch.rand((10, output_dim))\n",
        "print(\"\\nTarget Data:\")\n",
        "print(y_target)\n",
        "\n",
        "# 학습 과정\n",
        "num_epochs = 100\n",
        "for epoch in range(num_epochs):\n",
        "    # 예측\n",
        "    y_pred = model(x)\n",
        "\n",
        "    # 손실 계산\n",
        "    loss = criterion(y_pred, y_target)\n",
        "\n",
        "    # 역전파 및 최적화\n",
        "    optimizer.zero_grad()\n",
        "    loss.backward()\n",
        "    optimizer.step()\n",
        "\n",
        "    # 10 에폭마다 손실 출력\n",
        "    if (epoch+1) % 10 == 0:\n",
        "        print(f\"\\nEpoch [{epoch+1}/{num_epochs}], Loss: {loss.item():.4f}\")\n"
      ],
      "metadata": {
        "colab": {
          "base_uri": "https://localhost:8080/"
        },
        "id": "7ISujJRhLeKG",
        "outputId": "2de72bac-59e7-4603-b6f6-75188777819a"
      },
      "execution_count": 6,
      "outputs": [
        {
          "output_type": "stream",
          "name": "stdout",
          "text": [
            "\n",
            "Target Data:\n",
            "tensor([[0.9312, 0.7778],\n",
            "        [0.7259, 0.2668],\n",
            "        [0.2635, 0.4606],\n",
            "        [0.3458, 0.7771],\n",
            "        [0.2982, 0.4637],\n",
            "        [0.7144, 0.3102],\n",
            "        [0.2468, 0.4384],\n",
            "        [0.1175, 0.2678],\n",
            "        [0.9390, 0.4425],\n",
            "        [0.1022, 0.3457]])\n",
            "\n",
            "Epoch [10/100], Loss: 0.1277\n",
            "\n",
            "Epoch [20/100], Loss: 0.1155\n",
            "\n",
            "Epoch [30/100], Loss: 0.1057\n",
            "\n",
            "Epoch [40/100], Loss: 0.0977\n",
            "\n",
            "Epoch [50/100], Loss: 0.0913\n",
            "\n",
            "Epoch [60/100], Loss: 0.0861\n",
            "\n",
            "Epoch [70/100], Loss: 0.0820\n",
            "\n",
            "Epoch [80/100], Loss: 0.0786\n",
            "\n",
            "Epoch [90/100], Loss: 0.0759\n",
            "\n",
            "Epoch [100/100], Loss: 0.0737\n"
          ]
        }
      ]
    },
    {
      "cell_type": "markdown",
      "source": [
        "# 6. 최종 예측 확인"
      ],
      "metadata": {
        "id": "hRGfCUJeLgOH"
      }
    },
    {
      "cell_type": "code",
      "source": [
        "print(\"\\nFinal Predictions after Training:\")\n",
        "print(model(x))\n"
      ],
      "metadata": {
        "colab": {
          "base_uri": "https://localhost:8080/"
        },
        "id": "Ecz9fjGNLi8N",
        "outputId": "271b587d-1711-4811-f513-fea3118b026b"
      },
      "execution_count": 7,
      "outputs": [
        {
          "output_type": "stream",
          "name": "stdout",
          "text": [
            "\n",
            "Final Predictions after Training:\n",
            "tensor([[0.3509, 0.3792],\n",
            "        [0.3632, 0.3844],\n",
            "        [0.3562, 0.3814],\n",
            "        [0.3469, 0.3775],\n",
            "        [0.3540, 0.3805],\n",
            "        [0.3487, 0.3783],\n",
            "        [0.3711, 0.3877],\n",
            "        [0.3728, 0.3885],\n",
            "        [0.3610, 0.3835],\n",
            "        [0.3653, 0.3853]], grad_fn=<AddmmBackward0>)\n"
          ]
        }
      ]
    }
  ]
}