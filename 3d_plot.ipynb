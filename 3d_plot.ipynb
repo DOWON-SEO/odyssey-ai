{
  "nbformat": 4,
  "nbformat_minor": 0,
  "metadata": {
    "colab": {
      "provenance": [],
      "authorship_tag": "ABX9TyO22DgKOdcPdV5XxvQGc66B",
      "include_colab_link": true
    },
    "kernelspec": {
      "name": "python3",
      "display_name": "Python 3"
    },
    "language_info": {
      "name": "python"
    }
  },
  "cells": [
    {
      "cell_type": "markdown",
      "metadata": {
        "id": "view-in-github",
        "colab_type": "text"
      },
      "source": [
        "<a href=\"https://colab.research.google.com/github/seoes/visitor-tracker/blob/main/3d_plot.ipynb\" target=\"_parent\"><img src=\"https://colab.research.google.com/assets/colab-badge.svg\" alt=\"Open In Colab\"/></a>"
      ]
    },
    {
      "cell_type": "code",
      "execution_count": null,
      "metadata": {
        "id": "INauF-qoUdId"
      },
      "outputs": [],
      "source": [
        "import numpy as np\n",
        "import matplotlib.pyplot as plt\n",
        "from scipy.stats import gaussian_kde\n",
        "from mpl_toolkits.mplot3d import Axes3D\n",
        "\n",
        "\n",
        "def preprocess_data(file_path):\n",
        "    frames, ids, probabilities, xs, ys = [], [], [], [], []\n",
        "    with open(file_path, 'r') as file:\n",
        "        for line in file:\n",
        "            if line.strip():\n",
        "                frame, id_val, probability, x, y = line.strip().split(', ')\n",
        "                frames.append(int(frame))\n",
        "                ids.append(int(id_val))\n",
        "                probabilities.append(float(probability))\n",
        "                xs.append(int(x))\n",
        "                ys.append(int(y))\n",
        "    return frames, ids, probabilities, xs, ys\n",
        "\n",
        "\n",
        "# Load and preprocess the data\n",
        "file_path = 'each_coord-3.txt'\n",
        "frames, ids, probabilities, x, y = preprocess_data(file_path)\n",
        "print(\"Data preprocessing complete.\")\n",
        "\n",
        "# Use Gaussian KDE to estimate the probability density\n",
        "weights = probabilities\n",
        "xy = np.vstack([x, y])\n",
        "kde = gaussian_kde(xy, weights=weights)\n",
        "print(\"KDE computation complete.\")\n",
        "\n",
        "# After preprocessing\n",
        "x = np.array(x)\n",
        "y = np.array(y)\n",
        "\n",
        "# Create a grid for plotting\n",
        "xgrid = np.linspace(x.min(), x.max(), 100)\n",
        "ygrid = np.linspace(y.min(), y.max(), 100)\n",
        "X, Y = np.meshgrid(xgrid, ygrid)\n",
        "Z = kde(np.vstack([X.ravel(), Y.ravel()]))\n",
        "Z = Z.reshape(X.shape)\n",
        "print(\"Grid preparation complete.\")\n",
        "\n",
        "# Plot the 3D heatmap\n",
        "fig = plt.figure(figsize=(10, 7))\n",
        "ax = fig.add_subplot(111, projection='3d')\n",
        "ax.plot_surface(X, Y, Z, cmap='viridis')\n",
        "ax.set_xlabel('X Coordinate')\n",
        "ax.set_ylabel('Y Coordinate')\n",
        "ax.set_zlabel('Probability Density')\n",
        "plt.show()\n",
        "print(\"Plotting complete.\")\n"
      ]
    }
  ]
}